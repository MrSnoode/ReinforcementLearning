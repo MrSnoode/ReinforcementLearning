{
 "cells": [
  {
   "cell_type": "code",
   "execution_count": null,
   "metadata": {},
   "outputs": [],
   "source": [
    "%matplotlib notebook\n",
    "import matplotlib.pyplot as plt\n",
    "\n",
    "import sys\n",
    "sys.path.append(\"..\\\\Source\")\n",
    "\n",
    "import numpy as np\n",
    "from Environments.CleanBotEnv import CleanBotEnv\n",
    "from Models.TableModel import TableModel\n",
    "from Methods.MonteCarloMethods import ConstAlphaMC, AveragingMC\n",
    "from Methods.Policies import EpsilonGreedyPolicy, GreedyPolicy\n",
    "from Utilities.Eval import StatsLogger, ScrollingPlot, test_policy"
   ]
  },
  {
   "cell_type": "code",
   "execution_count": null,
   "metadata": {},
   "outputs": [],
   "source": [
    "class TestingStats:\n",
    "    def __init__(self):\n",
    "        self.training_avg_reward = 0.0\n",
    "        self.testing_avg_reward = 0.0\n",
    "\n",
    "np.random.seed(643674)\n",
    "env = CleanBotEnv(4)\n",
    "model = TableModel(env)\n",
    "training_policy = EpsilonGreedyPolicy(model, 0.1)\n",
    "mc = ConstAlphaMC(env, model, training_policy)\n",
    "trainingStats = StatsLogger(mc.stats, max_length=100000)\n",
    "testing_policy = GreedyPolicy(model)\n",
    "testingStat = TestingStats()\n",
    "testingStats = StatsLogger(testingStat, max_length=2000)\n",
    "\n",
    "figures = [\n",
    "    {\n",
    "        \"source\": trainingStats,\n",
    "        \"plots\": [\n",
    "           {\n",
    "               \"stat\" : \"max_action_value_delta\",\n",
    "               \"color\": \"b\"               \n",
    "           }\n",
    "        ]\n",
    "    },\n",
    "    {                       \n",
    "        \"source\": testingStats,\n",
    "        \"plots\": [\n",
    "           {\n",
    "               \"stat\" : \"training_avg_reward\",\n",
    "               \"color\": \"b\"\n",
    "           },\n",
    "           {\n",
    "               \"stat\" : \"testing_avg_reward\",\n",
    "               \"color\": \"g\"\n",
    "           }\n",
    "        ]\n",
    "    }\n",
    "]\n",
    "\n"
   ]
  },
  {
   "cell_type": "code",
   "execution_count": null,
   "metadata": {
    "scrolled": false
   },
   "outputs": [],
   "source": [
    "plotHelper = ScrollingPlot(figures)"
   ]
  },
  {
   "cell_type": "code",
   "execution_count": null,
   "metadata": {
    "scrolled": false
   },
   "outputs": [],
   "source": [
    "plot_upate_steps = 2000\n",
    "testing_update_steps = 500\n",
    "\n",
    "training_policy.exploration = 0.1\n",
    "env.max_steps = 100\n",
    "episode_count = 5000000\n",
    "mc.alpha = 0.005\n",
    "testing_episode_count = 200\n",
    "\n",
    "try:    \n",
    "    for i in range(episode_count):\n",
    "        mc.run_episode()\n",
    "        trainingStats.append(mc.stats)\n",
    "        \n",
    "        if i % testing_update_steps == testing_update_steps-1:\n",
    "            testingStat.training_avg_reward = np.average(trainingStats.data[\"episode_reward\"][-testing_update_steps:])\n",
    "            testingStat.testing_avg_reward = test_policy(env, testing_policy, episode_count=testing_episode_count)\n",
    "            testingStats.append(testingStat)\n",
    "        \n",
    "        if i % plot_upate_steps == plot_upate_steps-1:            \n",
    "            plotHelper.update_plot() \n",
    "except KeyboardInterrupt:\n",
    "    print(\"Keyborad interrupt\")"
   ]
  },
  {
   "cell_type": "code",
   "execution_count": null,
   "metadata": {},
   "outputs": [],
   "source": [
    "np.random.seed(52346)\n",
    "\n",
    "done = True\n",
    "episode_reward = 0.0\n",
    "total_reward = 0.0\n",
    "episode_count = 0\n",
    "avg_reward = 0.0"
   ]
  },
  {
   "cell_type": "code",
   "execution_count": null,
   "metadata": {},
   "outputs": [],
   "source": [
    "if done:\n",
    "    obs = env.reset()\n",
    "    done = False\n",
    "    if episode_reward != 0:\n",
    "        episode_reward = 0.0    \n",
    "        episode_count += 1\n",
    "        avg_reward = total_reward / episode_count\n",
    "else:\n",
    "    action = testing_policy.choose_action(obs)\n",
    "    obs, reward, done, _ = env.step(action)\n",
    "    episode_reward += reward\n",
    "    total_reward += reward\n",
    "env.render()\n",
    "print(f\"Reward this episode: {episode_reward}\") \n",
    "print(f\"     Average reward: {avg_reward}\")\n",
    "print(f\"      Action values: {model.action_values(obs)}\")"
   ]
  },
  {
   "cell_type": "code",
   "execution_count": null,
   "metadata": {},
   "outputs": [],
   "source": []
  },
  {
   "cell_type": "code",
   "execution_count": null,
   "metadata": {},
   "outputs": [],
   "source": []
  },
  {
   "cell_type": "code",
   "execution_count": null,
   "metadata": {},
   "outputs": [],
   "source": []
  }
 ],
 "metadata": {
  "kernelspec": {
   "display_name": "Python 3",
   "language": "python",
   "name": "python3"
  },
  "language_info": {
   "codemirror_mode": {
    "name": "ipython",
    "version": 3
   },
   "file_extension": ".py",
   "mimetype": "text/x-python",
   "name": "python",
   "nbconvert_exporter": "python",
   "pygments_lexer": "ipython3",
   "version": "3.6.3"
  }
 },
 "nbformat": 4,
 "nbformat_minor": 2
}
