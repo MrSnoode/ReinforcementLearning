{
 "cells": [
  {
   "cell_type": "code",
   "execution_count": null,
   "metadata": {},
   "outputs": [],
   "source": [
    "%matplotlib notebook\n",
    "import matplotlib.pyplot as plt\n",
    "\n",
    "import sys\n",
    "sys.path.append(\"..\\\\Source\")\n",
    "\n",
    "import numpy as np\n",
    "from Environments.CleanBotEnv import CleanBotEnv\n",
    "from Models.TableModel import TableModel\n",
    "from Methods.MonteCarlo import AveragingMC\n",
    "from Methods.Policies import EpsilonGreedyPolicy\n",
    "from Utilities.Eval import StatsLogger, ScrollingPlot\n",
    "from Experiments.CleanBotExperiments import *"
   ]
  },
  {
   "cell_type": "code",
   "execution_count": null,
   "metadata": {},
   "outputs": [],
   "source": [
    "class TestingStats:\n",
    "    def __init__(self):\n",
    "        self.training_avg_reward = 0.0\n",
    "        self.training_avg_rms = 0.0\n",
    "        self.testing_avg_reward = 0.0\n",
    "        \n",
    "np.random.seed(643674)\n",
    "experiments = []\n",
    "figures = []\n",
    "\n",
    "constructors = [AlphaMCArrayModel, AlphaMC1ConvKerasModel, Sarsa1ConvKerasModel] \n",
    "for constructor in constructors:\n",
    "    experiment = constructor()\n",
    "    trainingStats = StatsLogger(experiment.method.stats, max_length=100000)\n",
    "    testingStat = TestingStats()\n",
    "    testingStats = StatsLogger(testingStat, max_length=10000)\n",
    "    experiments.append((experiment, trainingStats, testingStat, testingStats))\n",
    "\n",
    "    figures.append(\n",
    "        {                       \n",
    "            \"source\": testingStats,\n",
    "            \"plots\": [\n",
    "               {\n",
    "                   \"stat\" : \"training_avg_reward\",\n",
    "                   \"color\": \"b\"\n",
    "               },\n",
    "               {\n",
    "                   \"stat\" : \"testing_avg_reward\",\n",
    "                   \"color\": \"g\"\n",
    "               }\n",
    "            ]\n",
    "        }\n",
    "    )"
   ]
  },
  {
   "cell_type": "code",
   "execution_count": null,
   "metadata": {},
   "outputs": [],
   "source": [
    "plotHelper = ScrollingPlot(figures)"
   ]
  },
  {
   "cell_type": "code",
   "execution_count": null,
   "metadata": {
    "scrolled": false
   },
   "outputs": [],
   "source": [
    "plot_upate_steps = 201\n",
    "testing_update_steps = 50\n",
    "\n",
    "try:\n",
    "    episode_count = 50001\n",
    "    for i in range(episode_count):\n",
    "        random_state = np.random.get_state()\n",
    "        for experiment, trainingStats, testingStat, testingStats in experiments:\n",
    "            np.random.set_state(random_state)\n",
    "            experiment.method.run_episode()\n",
    "            trainingStats.append(experiment.method.stats)\n",
    "\n",
    "            if i % testing_update_steps == testing_update_steps-1:\n",
    "                testingStat.training_avg_reward = np.average(trainingStats.data[\"episode_reward\"][-testing_update_steps:])\n",
    "                testingStat.testing_avg_reward = experiment.validate()\n",
    "                testingStats.append(testingStat)\n",
    "        \n",
    "        if i % plot_upate_steps == plot_upate_steps-1:            \n",
    "            plotHelper.update_plot() \n",
    "except KeyboardInterrupt:\n",
    "    print(\"Keyborad interrupt\")"
   ]
  }
 ],
 "metadata": {
  "kernelspec": {
   "display_name": "Python 3",
   "language": "python",
   "name": "python3"
  },
  "language_info": {
   "codemirror_mode": {
    "name": "ipython",
    "version": 3
   },
   "file_extension": ".py",
   "mimetype": "text/x-python",
   "name": "python",
   "nbconvert_exporter": "python",
   "pygments_lexer": "ipython3",
   "version": "3.6.3"
  }
 },
 "nbformat": 4,
 "nbformat_minor": 2
}
