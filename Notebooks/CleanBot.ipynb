{
 "cells": [
  {
   "cell_type": "code",
   "execution_count": null,
   "metadata": {},
   "outputs": [],
   "source": [
    "%matplotlib notebook\n",
    "import matplotlib.pyplot as plt\n",
    "\n",
    "import sys\n",
    "sys.path.append(\"..\\\\Source\")\n",
    "\n",
    "import numpy as np\n",
    "from Environments.CleanBotEnv import CleanBotEnv\n",
    "from Models.TableModel import TableModel\n",
    "from Methods.MonteCarloMethods import AveragingMC\n",
    "from Methods.Policies import EpsilonGreedyPolicy\n",
    "from Utilities.Eval import StatsLogger, ScrollingPlot\n"
   ]
  },
  {
   "cell_type": "code",
   "execution_count": null,
   "metadata": {},
   "outputs": [],
   "source": [
    "np.random.seed(643674)\n",
    "env = CleanBotEnv(3)\n",
    "model = TableModel(env)\n",
    "policy = EpsilonGreedyPolicy(model, 0.1)\n",
    "mc = AveragingMC(env, model, policy)\n",
    "stats = StatsLogger(mc.stats, max_length=2000)\n",
    "\n",
    "figures = [\n",
    "    {\n",
    "        \"source\": stats,\n",
    "        \"plots\": [\n",
    "           {\n",
    "               \"stat\" : \"first_time_visited\",\n",
    "               \"color\": \"b\"\n",
    "           }, {\n",
    "               \"stat\" : \"fifth_time_visited\",\n",
    "               \"color\": \"g\"\n",
    "           }\n",
    "        ]\n",
    "    },\n",
    "    {\n",
    "        \"source\": stats,\n",
    "        \"plots\": [\n",
    "           {\n",
    "               \"stat\" : \"max_action_value_delta\",\n",
    "               \"color\": \"b\"\n",
    "           }\n",
    "        ]\n",
    "    }\n",
    "]\n",
    "\n"
   ]
  },
  {
   "cell_type": "code",
   "execution_count": null,
   "metadata": {},
   "outputs": [],
   "source": [
    "plotHelper = ScrollingPlot(figures)"
   ]
  },
  {
   "cell_type": "code",
   "execution_count": null,
   "metadata": {
    "scrolled": false
   },
   "outputs": [],
   "source": [
    "try:\n",
    "    policy.exploration = 0.1\n",
    "    env.max_steps = 100\n",
    "    episode_count = 500000\n",
    "    for i in range(episode_count):\n",
    "        mc.run_episode()\n",
    "        stats.append(mc.stats)\n",
    "        if i % 500 == 99:\n",
    "            plotHelper.update_plot()\n",
    "except KeyboardInterrupt:\n",
    "    print(\"Keyborad interrupt\")"
   ]
  },
  {
   "cell_type": "code",
   "execution_count": null,
   "metadata": {},
   "outputs": [],
   "source": []
  },
  {
   "cell_type": "code",
   "execution_count": null,
   "metadata": {},
   "outputs": [],
   "source": []
  }
 ],
 "metadata": {
  "kernelspec": {
   "display_name": "Python 3",
   "language": "python",
   "name": "python3"
  },
  "language_info": {
   "codemirror_mode": {
    "name": "ipython",
    "version": 3
   },
   "file_extension": ".py",
   "mimetype": "text/x-python",
   "name": "python",
   "nbconvert_exporter": "python",
   "pygments_lexer": "ipython3",
   "version": "3.6.3"
  }
 },
 "nbformat": 4,
 "nbformat_minor": 2
}
