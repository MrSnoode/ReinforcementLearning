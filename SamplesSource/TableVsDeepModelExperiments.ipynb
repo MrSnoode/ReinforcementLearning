{
 "cells": [
  {
   "cell_type": "code",
   "execution_count": null,
   "metadata": {},
   "outputs": [],
   "source": [
    "%matplotlib notebook\n",
    "import matplotlib.pyplot as plt\n",
    "\n",
    "import sys\n",
    "sys.path.append(\"../Source\")\n",
    "\n",
    "import numpy as np\n",
    "from Utilities.Eval import MetricsLogger\n",
    "from PlotUtilities import LivePlot\n",
    "from TableVsDeepModel import *"
   ]
  },
  {
   "cell_type": "code",
   "execution_count": null,
   "metadata": {},
   "outputs": [],
   "source": [
    "class ValidationMetrics:\n",
    "    def __init__(self):\n",
    "        self.training_avg_reward = 0.0\n",
    "        self.validation_avg_reward = 0.0\n",
    "        \n",
    "np.random.seed(643674)\n",
    "experiments = []\n",
    "figures = []\n",
    "\n",
    "constructors = [AlphaMCArrayModel, AlphaMcConv1KerasModel, SarsaConv1KerasModel] \n",
    "for constructor in constructors:\n",
    "    experiment = constructor()\n",
    "    training_log = MetricsLogger(experiment.method.metrics, max_length=100000)\n",
    "    validation_metrics = ValidationMetrics()\n",
    "    validation_log = MetricsLogger(validation_metrics, max_length=10000)\n",
    "    experiments.append((experiment, training_log, validation_metrics, validation_log))\n",
    "\n",
    "    figures.append(\n",
    "        {                       \n",
    "            \"source\": validation_log,\n",
    "            \"plots\": [\n",
    "               {\n",
    "                   \"metric\" : \"training_avg_reward\",\n",
    "                   \"color\": \"b\"\n",
    "               },\n",
    "               {\n",
    "                   \"metric\" : \"validation_avg_reward\",\n",
    "                   \"color\": \"g\"\n",
    "               }\n",
    "            ]\n",
    "        }\n",
    "    )"
   ]
  },
  {
   "cell_type": "code",
   "execution_count": null,
   "metadata": {},
   "outputs": [],
   "source": [
    "livePlot = LivePlot(figures)"
   ]
  },
  {
   "cell_type": "code",
   "execution_count": null,
   "metadata": {
    "scrolled": false
   },
   "outputs": [],
   "source": [
    "plot_frequency = 201\n",
    "validation_frequencey = 50\n",
    "\n",
    "try:\n",
    "    episode_count = 50001\n",
    "    for i in range(episode_count):\n",
    "        random_state = np.random.get_state()\n",
    "        for experiment, training_log, validation_metrics, validation_log in experiments:\n",
    "            np.random.set_state(random_state)\n",
    "            experiment.method.run_episode()\n",
    "            training_log.append(experiment.method.metrics)\n",
    "\n",
    "            if i % validation_frequencey == validation_frequencey-1:\n",
    "                validation_metrics.training_avg_reward = np.average(training_log.data[\"episode_reward\"][-validation_frequencey:])\n",
    "                validation_metrics.validation_avg_reward = experiment.validate(episode_count=50)\n",
    "                validation_log.append(validation_metrics)\n",
    "        \n",
    "        if i % plot_frequency == plot_frequency-1:            \n",
    "            livePlot.update_plot() \n",
    "except KeyboardInterrupt:\n",
    "    print(\"Keyborad interrupt\")"
   ]
  },
  {
   "cell_type": "code",
   "execution_count": null,
   "metadata": {},
   "outputs": [],
   "source": []
  }
 ],
 "metadata": {
  "kernelspec": {
   "display_name": "Python 3",
   "language": "python",
   "name": "python3"
  },
  "language_info": {
   "codemirror_mode": {
    "name": "ipython",
    "version": 3
   },
   "file_extension": ".py",
   "mimetype": "text/x-python",
   "name": "python",
   "nbconvert_exporter": "python",
   "pygments_lexer": "ipython3",
   "version": "3.6.3"
  }
 },
 "nbformat": 4,
 "nbformat_minor": 2
}
