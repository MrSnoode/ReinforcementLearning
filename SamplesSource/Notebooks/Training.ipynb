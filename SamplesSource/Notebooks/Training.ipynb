{
 "cells": [
  {
   "cell_type": "code",
   "execution_count": null,
   "metadata": {},
   "outputs": [],
   "source": [
    "%matplotlib notebook\n",
    "import matplotlib.pyplot as plt\n",
    "\n",
    "import sys\n",
    "sys.path.append(\"../../SamplesSource\")\n",
    "sys.path.append(\"../../Source\")\n",
    "\n",
    "import numpy as np\n",
    "from CleanBotEnv import CleanBotEnv\n",
    "from Models.TableModel import TableModel\n",
    "from Models.KerasModel import KerasModel\n",
    "from Methods.MonteCarlo import AlphaMC, AveragingMC\n",
    "from Methods.TemporalDifference import Sarsa\n",
    "from Policies import EpsilonGreedyPolicy, GreedyPolicy\n",
    "from Utilities.Eval import MetricsLogger, validate_policy\n",
    "from PlotUtilities import LivePlot\n",
    "from KerasModelBuilders import conv1_model"
   ]
  },
  {
   "cell_type": "code",
   "execution_count": null,
   "metadata": {},
   "outputs": [],
   "source": [
    "class ValidationMetrics:\n",
    "    def __init__(self):\n",
    "        self.training_avg_reward = 0.0\n",
    "        self.training_avg_rms = 0.0\n",
    "        self.validation_avg_reward = 0.0\n",
    "\n",
    "np.random.seed(643674)\n",
    "env = CleanBotEnv(4)\n",
    "model = KerasModel(env, conv1_model(env))\n",
    "training_policy = EpsilonGreedyPolicy(model, 0.1)\n",
    "mc = AlphaMC(env, model, training_policy)\n",
    "training_log = MetricsLogger(mc.metrics, max_length=100000)\n",
    "validation_policy = GreedyPolicy(model)\n",
    "validation_metrics = ValidationMetrics()\n",
    "validation_log = MetricsLogger(validation_metrics, max_length=10000)\n",
    "\n",
    "\n",
    "figures = [\n",
    "    {\n",
    "        \"source\": training_log,\n",
    "        \"plots\": [\n",
    "           {\n",
    "               \"metric\" : \"max_action_value_delta\",\n",
    "               \"color\": \"b\"               \n",
    "           }, \n",
    "           {\n",
    "               \"metric\" : \"rms\",\n",
    "               \"color\": \"orange\"               \n",
    "           }, \n",
    "        ]\n",
    "    },\n",
    "    {                       \n",
    "        \"source\": validation_log,\n",
    "        \"plots\": [\n",
    "           {\n",
    "               \"metric\" : \"training_avg_reward\",\n",
    "               \"color\": \"b\"\n",
    "           },\n",
    "           {\n",
    "               \"metric\" : \"training_avg_rms\",\n",
    "               \"color\": \"orange\"\n",
    "           },\n",
    "           {\n",
    "               \"metric\" : \"validation_avg_reward\",\n",
    "               \"color\": \"g\"\n",
    "           }\n",
    "        ]\n",
    "    }\n",
    "]\n",
    "\n"
   ]
  },
  {
   "cell_type": "code",
   "execution_count": null,
   "metadata": {
    "scrolled": false
   },
   "outputs": [],
   "source": [
    "livePlot = LivePlot(figures)"
   ]
  },
  {
   "cell_type": "code",
   "execution_count": null,
   "metadata": {
    "scrolled": false
   },
   "outputs": [],
   "source": [
    "plot_frequency = 201\n",
    "validation_frequency = 50\n",
    "\n",
    "training_policy.exploration = 0.1\n",
    "env.max_steps = 35\n",
    "mc.alpha = 0.01\n",
    "model.epochs = 100\n",
    "validation_episode_count = 200\n",
    "\n",
    "try:\n",
    "    episode_count = 50001\n",
    "    for i in range(episode_count):\n",
    "        mc.run_episode()\n",
    "        training_log.append(mc.metrics)\n",
    "        \n",
    "        if i % validation_frequency == validation_frequency-1:\n",
    "            validation_metrics.training_avg_reward = np.average(training_log.data[\"episode_reward\"][-validation_frequency:])\n",
    "            validation_metrics.training_avg_rms = np.average(training_log.data[\"rms\"][-validation_frequency:])\n",
    "            validation_metrics.validation_avg_reward = validate_policy(env, validation_policy, episode_count=validation_episode_count)\n",
    "            validation_log.append(validation_metrics)\n",
    "        \n",
    "        if i % plot_frequency == plot_frequency-1:            \n",
    "            livePlot.update_plot() \n",
    "except KeyboardInterrupt:\n",
    "    print(\"Keyborad interrupt\")"
   ]
  },
  {
   "cell_type": "code",
   "execution_count": null,
   "metadata": {},
   "outputs": [],
   "source": [
    "np.random.seed(52346)\n",
    "\n",
    "done = True\n",
    "episode_reward = 0.0\n",
    "total_reward = 0.0\n",
    "episode_count = 0\n",
    "avg_reward = 0.0"
   ]
  },
  {
   "cell_type": "code",
   "execution_count": null,
   "metadata": {},
   "outputs": [],
   "source": [
    "if done:\n",
    "    obs = env.reset()\n",
    "    done = False\n",
    "    if episode_reward != 0:\n",
    "        episode_reward = 0.0    \n",
    "        episode_count += 1\n",
    "        avg_reward = total_reward / episode_count\n",
    "else:\n",
    "    action = validation_policy.choose_action(obs)\n",
    "    obs, reward, done, _ = env.step(action)\n",
    "    episode_reward += reward\n",
    "    total_reward += reward\n",
    "env.render()\n",
    "print(f\"Reward this episode: {episode_reward}\") \n",
    "print(f\"     Average reward: {avg_reward}\")\n",
    "print(f\"      Action values: {model.state_values(obs)}\")"
   ]
  },
  {
   "cell_type": "code",
   "execution_count": null,
   "metadata": {},
   "outputs": [],
   "source": []
  }
 ],
 "metadata": {
  "kernelspec": {
   "display_name": "Python 3",
   "language": "python",
   "name": "python3"
  },
  "language_info": {
   "codemirror_mode": {
    "name": "ipython",
    "version": 3
   },
   "file_extension": ".py",
   "mimetype": "text/x-python",
   "name": "python",
   "nbconvert_exporter": "python",
   "pygments_lexer": "ipython3",
   "version": "3.6.3"
  }
 },
 "nbformat": 4,
 "nbformat_minor": 2
}
